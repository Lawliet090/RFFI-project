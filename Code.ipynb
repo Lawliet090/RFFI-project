import os

# File path
file_path = 'C:/Users/Bruker/Desktop/Thesis/Data.xlsx/'
#figures = []  # Initialize an empty list to store the figures


# Go through all the files in the folder
for file in os.listdir(file_path):
    if file.endswith(".xlsx"): 
        file_full_path = os.path.join(file_path, file)
        print(f"Processing file: {file_full_path}")

    #Loop through all sheets    
    import pandas as pd
    sheets = pd.read_excel(file_full_path, sheet_name=None)

    for sheet_name, df in sheets.items():             
        if 'start' in df.columns:
                timestamp_column = 'start'
        elif 'timePeriodStart' in df.columns:
                timestamp_column = 'timePeriodStart'
                
        else:
                print("Oops! Målepunkt")
        print(f"proccessing sheet {sheet_name} in file {file}")
              

            # Convert the timestamp column to datetime
        #df['timestamp'] = pd.to_datetime(df[timestamp_column])